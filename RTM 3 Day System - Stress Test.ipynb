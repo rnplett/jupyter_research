{
 "cells": [
  {
   "cell_type": "markdown",
   "metadata": {},
   "source": [
    "### RTM - Stress Test\n",
    "\n",
    "A number of exploratory notebooks have validated the following RTM system.\n",
    "- Entry is based on a 1 lot ATM option\n",
    "  - With an up trend enter bull trade anywhere below the 21 period moving average\n",
    "  - With a down trend enter bear trade anywhere above the 21 period moving average\n",
    "  - With no trend enter enter bull trade in oversold condition and bear trade in overbought condition\n",
    "- Exit is at a target consistent with a 0.5% move in the underlying or exit after 3 days\n",
    "- Return is based on the value of stock controlled by a 1 lot of options.\n",
    "- over the test period of 2007 to 2017 this system consistently shows an average annual return of 13% with almost no chance of drawdown over any 3 month period. The worst 1 month performance was better than -1%\n",
    "\n",
    "This notebook will test the versatility of this system by testing the following:\n",
    "- the effects of the system for different sector ETF's\n",
    "- the effects of the system drawdown when combining uncorrelated sector ETF's\n",
    "\n",
    "Assumptions:\n",
    "- ATM Options cost approximately 3% of the underlying's stock price.\n",
    "- Option Expiry is chosen to minimize Theta at about 1% of the option price. This is typically about 20 DTE.\n"
   ]
  },
  {
   "cell_type": "code",
   "execution_count": null,
   "metadata": {},
   "outputs": [],
   "source": [
    "import seaborn as sns\n",
    "import numpy as np\n",
    "import pandas as pd\n",
    "import matplotlib.pyplot as plt\n",
    "\n",
    "start_date = '2018-01-01'\n",
    "end_date = '2018-04-01'\n",
    "\n",
    "TARGET = 0.005\n",
    "HOLD_TIME = 3\n",
    "TARGET_DELTA = 0.55\n",
    "HOLD_DELTA = 0.45\n",
    "OPTION_PRICE = 0.03\n",
    "COMMISSION = 6\n",
    "THETA_FACTOR = 0.01\n",
    "TRADE_LENGTH = 2\n",
    "\n",
    "def RTMSysResults(symbols):\n",
    "    data = get_pricing(symbols=symbols, start_date=start_date, end_date=end_date).copy()\n",
    "    O = data['open_price']\n",
    "    H = data['high']\n",
    "    L = data['low']\n",
    "    C = data['close_price']\n",
    "    O1 = data['open_price'].shift(-1)\n",
    "\n",
    "    # RETURN - Ten Day Return for Buy and Hold\n",
    "    TenDayReturn = ((data['open_price'].shift(-10) - O1)/O1).dropna()\n",
    "\n",
    "    # RETURN - Hold til target.\n",
    "    max_rise10 = ((H[::-1].rolling(window=HOLD_TIME).max()[::-1]-O1)/O1).dropna()\n",
    "    max_drop10 = ((L[::-1].rolling(window=HOLD_TIME).min()[::-1]-O1)/O1).dropna()\n",
    "\n",
    "    BullTargetReturn = ((max_rise10 > TARGET)*TARGET*TARGET_DELTA + \n",
    "                    (max_rise10 < TARGET)*TenDayReturn*HOLD_DELTA).dropna().astype(\"float\")\n",
    "    BearTargetReturn = ((max_drop10 < -TARGET)*TARGET*TARGET_DELTA - \n",
    "                    (max_drop10 > -TARGET)*TenDayReturn*HOLD_DELTA).dropna().astype(\"float\")\n",
    "    BullTargetReturn[BullTargetReturn < -OPTION_PRICE] = -OPTION_PRICE\n",
    "    BearTargetReturn[BearTargetReturn < -OPTION_PRICE] = -OPTION_PRICE\n",
    "\n",
    "    #Calculate Overhead as a percentage\n",
    "    Overhead = (COMMISSION/100)/O1 + OPTION_PRICE*THETA_FACTOR*TRADE_LENGTH\n",
    "    \n",
    "    # Identifying the Trend using moving average cross combinations.\n",
    "    K = C.rolling(window=8).mean()\n",
    "    mean = C.rolling(window=21).mean()\n",
    "    slowMA = C.rolling(window=55).mean()\n",
    "    bull_trend = (K > mean) & (mean > slowMA)\n",
    "    bear_trend = (K < mean) & (mean < slowMA)\n",
    "    no_trend = ~bull_trend & ~bear_trend\n",
    "\n",
    "    data.loc[bull_trend,\"trend\"] = \"Bull\"\n",
    "    data.loc[bear_trend,\"trend\"] = \"Bear\"\n",
    "    data.loc[no_trend,\"trend\"] = \"Neutral\"\n",
    "\n",
    "    # Price position relative to key moving averages.\n",
    "    data.loc[(C > mean),\"ma21\"] = \"AboveMA21\"\n",
    "    data.loc[(C < mean),\"ma21\"] = \"BelowMA21\"\n",
    "\n",
    "    # Stochastic Status\n",
    "    H14 = H.rolling(window=14).max().dropna()\n",
    "    L14 = L.rolling(window=14).min().dropna()\n",
    "    Stoch = 100*(C-L14)/(H14-L14)\n",
    "    OB = Stoch > 80\n",
    "    OS = Stoch < 20\n",
    "    Neutral = ~OB & ~OS\n",
    "\n",
    "    data.loc[OB,\"stoch\"] = \"OverBought\"\n",
    "    data.loc[OS,\"stoch\"] = \"OverSold\"\n",
    "    data.loc[Neutral,\"stoch\"] = \"Neutral\"\n",
    "\n",
    "    # Determine System Results\n",
    "    bullEntry = (data[\"stoch\"]==\"OverSold\") & (data[\"trend\"] == \"Neutral\")\n",
    "    bearEntry = (data[\"stoch\"]==\"OverBought\") & (data[\"trend\"] == \"Neutral\")\n",
    "\n",
    "    bullEntry = ((data[\"trend\"]==\"Bull\") & (data[\"ma21\"] == \"BelowMA21\")) | bullEntry \n",
    "    bearEntry = ((data[\"trend\"]==\"Bear\") & (data[\"ma21\"] == \"AboveMA21\")) | bearEntry\n",
    "\n",
    "    df = (BullTargetReturn[bullEntry]-Overhead[bullEntry]).round(4)*100\n",
    "    print(\"Bull trade Win Percentage: {0:.2f}%\".format(100*float((df > 0).sum())/float(len(df.index))))\n",
    "    bull = df.groupby(pd.Grouper(freq=\"M\"))\n",
    "    \n",
    "    print(data[bullEntry])\n",
    "    print(df)\n",
    "    \n",
    "    df = (BearTargetReturn[bearEntry]-Overhead[bearEntry]).round(4)*100\n",
    "    print(\"Bear trade Win Percentage: {0:.2f}%\".format(100*float((df > 0).sum())/float(len(df.index))))\n",
    "    bear = df.groupby(pd.Grouper(freq=\"M\"))\n",
    "    \n",
    "    print(df)\n",
    "    \n",
    "    df1 = pd.DataFrame({\"Bull_Count\":bull.count().round(0),\"Bull_Sum\":bull.sum(),\n",
    "                   \"Bear_Count\":bear.count().round(0),\"Bear_Sum\":bear.sum()})\n",
    "    df1 = df1.fillna(0)\n",
    "    df1[\"Total_Count\"] = df1[\"Bear_Count\"] + df1[\"Bull_Count\"]\n",
    "    df1[\"Total_Sum\"] = df1[\"Bear_Sum\"] + df1[\"Bull_Sum\"]\n",
    "    df1.index = df1.index.strftime(\"%Y-%m\")\n",
    "\n",
    "    print(\"\\n{} Monthly Results:\\n=================================\\n\").format(symbols)\n",
    "    plt.bar(pd.to_datetime(df1.index), df1[\"Total_Sum\"])\n",
    "    plt.show()\n",
    "\n",
    "    Min_3Month = df1[\"Total_Sum\"].rolling(window=3).sum().min()\n",
    "    Max_3Month = df1[\"Total_Sum\"].rolling(window=3).sum().max()\n",
    "    Min_12Month = df1[\"Total_Sum\"].rolling(window=12).sum().min()\n",
    "    Max_12Month = df1[\"Total_Sum\"].rolling(window=12).sum().max()\n",
    "\n",
    "    #print(df1)\n",
    "    print(\"\\n Total Return: {0:.2f}% on {2:} trades       Average Annual Return: {1:.2f}% on {3:.2f} trades\".\n",
    "          format(df1.Total_Sum.sum(), df1.Total_Sum.mean()*12, df1.Total_Count.sum(), df1.Total_Count.mean()*12))\n",
    "    print(\"\\n3 Month Return: {0:.2f}% Min, {1:.2f}% Max\".format(float(Min_3Month),float(Max_3Month)))\n",
    "    print(\"12 Month Return: {0:.2f}% Min, {1:.2f}% Max\".format(float(Min_12Month),float(Max_12Month)))\n",
    "    \n",
    "    return df1"
   ]
  },
  {
   "cell_type": "code",
   "execution_count": null,
   "metadata": {},
   "outputs": [],
   "source": [
    "R = RTMSysResults('SPY')\n",
    "results = pd.DataFrame(R.loc[:,'Total_Sum'])\n",
    "results.columns = ['SPY']"
   ]
  },
  {
   "cell_type": "code",
   "execution_count": null,
   "metadata": {},
   "outputs": [],
   "source": [
    "R = RTMSysResults('XLY')\n",
    "results['XLY'] = R.Total_Sum"
   ]
  },
  {
   "cell_type": "code",
   "execution_count": null,
   "metadata": {},
   "outputs": [],
   "source": [
    "R = RTMSysResults('XLE')\n",
    "results['XLE'] = R.Total_Sum"
   ]
  },
  {
   "cell_type": "code",
   "execution_count": null,
   "metadata": {},
   "outputs": [],
   "source": [
    "R = RTMSysResults('XLV')\n",
    "results['XLV'] = R.Total_Sum"
   ]
  },
  {
   "cell_type": "code",
   "execution_count": null,
   "metadata": {},
   "outputs": [],
   "source": [
    "R = RTMSysResults('XLK')\n",
    "results['XLK'] = R.Total_Sum"
   ]
  },
  {
   "cell_type": "code",
   "execution_count": null,
   "metadata": {},
   "outputs": [],
   "source": [
    "R = RTMSysResults('XLU')\n",
    "results['XLU'] = R.Total_Sum"
   ]
  },
  {
   "cell_type": "markdown",
   "metadata": {},
   "source": [
    "### Correlation"
   ]
  },
  {
   "cell_type": "code",
   "execution_count": null,
   "metadata": {},
   "outputs": [],
   "source": [
    "results.corr()"
   ]
  },
  {
   "cell_type": "markdown",
   "metadata": {},
   "source": [
    "### Mixed Results \n",
    "With some dramatic random draw downs in each individual set of results the idea with this section is to combine 5 of the least correlated sector results to minimize draw downs.\n",
    "\n",
    "The percentages are based on the amount of underlying stock value 1 option lot controls."
   ]
  },
  {
   "cell_type": "code",
   "execution_count": null,
   "metadata": {},
   "outputs": [],
   "source": [
    "MixResults = results['XLY'] + \\\n",
    "            results['XLE'] + \\\n",
    "            results['XLV'] + \\\n",
    "            results['XLK'] + \\\n",
    "            results['XLU']\n",
    "    \n",
    "print(\"\\nMixed Monthly Results for XLY,XLE,XLV,XLK,XLU :\\n===============================================\\n\")\n",
    "plt.bar(pd.to_datetime(MixResults.index), MixResults/5)\n",
    "plt.show()\n",
    "\n",
    "Min_3Month = MixResults.rolling(window=3).sum().min()/5\n",
    "Max_3Month = MixResults.rolling(window=3).sum().max()/5\n",
    "Min_12Month = MixResults.rolling(window=12).sum().min()/5\n",
    "Max_12Month = MixResults.rolling(window=12).sum().max()/5\n",
    "\n",
    "#print(df1)\n",
    "print(\"\\nTotal Return: {0:.2f}%      Average Annual Return: {1:.2f}%    Average Annual Return per Sector: {2:.2f}%\".\n",
    "      format(MixResults.sum(), MixResults.mean()*12, MixResults.mean()*12/5))\n",
    "print(\"\\nPer Sector Results:\\n3 Month Return: {0:.2f}% Min, {1:.2f}% Max\".format(float(Min_3Month),float(Max_3Month)))\n",
    "print(\"12 Month Return: {0:.2f}% Min, {1:.2f}% Max\".format(float(Min_12Month),float(Max_12Month)))\n"
   ]
  },
  {
   "cell_type": "code",
   "execution_count": null,
   "metadata": {},
   "outputs": [],
   "source": [
    "M = MixResults.dropna()/5\n",
    "print(M.describe())\n",
    "print(\"\\n Months above break even: {0:.2f}%\".format(100*float((M > 0).sum())/float(len(M.index))))\n",
    "plt.hist(M, bins=20);"
   ]
  },
  {
   "cell_type": "markdown",
   "metadata": {},
   "source": [
    "This histogram shows the distribution of monthly returns from 2007 to 2017 using an equally weighted mix of 5 relatively uncorrelated sector ETF's. The maximum monthly loss with the mix was 6% and ~75% of the months were above break even. The average monthly return is 1.38%"
   ]
  },
  {
   "cell_type": "code",
   "execution_count": null,
   "metadata": {},
   "outputs": [],
   "source": []
  }
 ],
 "metadata": {
  "kernelspec": {
   "display_name": "Python 3",
   "language": "python",
   "name": "python3"
  },
  "language_info": {
   "codemirror_mode": {
    "name": "ipython",
    "version": 3
   },
   "file_extension": ".py",
   "mimetype": "text/x-python",
   "name": "python",
   "nbconvert_exporter": "python",
   "pygments_lexer": "ipython3",
   "version": "3.6.6"
  }
 },
 "nbformat": 4,
 "nbformat_minor": 2
}
